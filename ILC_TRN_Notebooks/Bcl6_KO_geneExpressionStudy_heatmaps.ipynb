{
 "cells": [
  {
   "cell_type": "markdown",
   "metadata": {},
   "source": [
    "# Stand-alone heatmaps of RNA-seq from the Bcl6 KO study\n",
    "\n",
    "The interaction below loads and initializes a stand alone\n",
    "heatmap widget for exploring gene expression data.  The widget supports\n",
    "selection of genes and conditions using space separated lists of\n",
    "names or \"glob\" patterns.\n",
    "\n",
    "For example to select all `NK` conditions add `*NK*` in the conditions\n",
    "text area and click the conditions button.\n",
    "\n",
    "To select `nsf`, `nme4`, and `nudt4` genes add `nsf nme4 nudt4` in the\n",
    "genes text area and click the genes button.\n",
    "\n",
    "Gene expression data has been normalized using DESeq2's variance stabilizing\n",
    "transformation. To normalize gene-wise, change `no transform` in the drop-down\n",
    "menu to `Z score` or `log 2 fold change`, where fold change is relative to the mean."
   ]
  },
  {
   "cell_type": "code",
   "execution_count": null,
   "metadata": {
    "collapsed": true
   },
   "outputs": [],
   "source": [
    "# Miraldi*, Pokrovskii* et al. (2018) \"Characterization of transcriptional regulatory networks that drive the \n",
    "# identities and functions of intestinal innate lymphoid cells\"\n",
    "\n",
    "# TO START: In the menu above, choose \"Cell\" --> \"Run All\", and heatmap will load"
   ]
  },
  {
   "cell_type": "code",
   "execution_count": 4,
   "metadata": {
    "collapsed": true
   },
   "outputs": [],
   "source": [
    "directory=\".\"\n",
    "\n",
    "absExpFile=\"GeneExpression/Bcl6_VSTcounts_final.txt\"\n",
    "\n",
    "heatmaps2plot = [(\"Bcl6 KO RNA-seq (variance-stabilized DESeq2 counts)\",absExpFile)]"
   ]
  },
  {
   "cell_type": "code",
   "execution_count": 5,
   "metadata": {
    "collapsed": true
   },
   "outputs": [],
   "source": [
    "from jp_gene_viz import dExpression\n",
    "dExpression.load_javascript_support()"
   ]
  },
  {
   "cell_type": "code",
   "execution_count": 6,
   "metadata": {},
   "outputs": [
    {
     "name": "stdout",
     "output_type": "stream",
     "text": [
      "./Bcl6_VSTcounts_final.txt\n"
     ]
    },
    {
     "data": {
      "application/vnd.jupyter.widget-view+json": {
       "model_id": "8f9e41573dc14fd29f38642c3d056e5b",
       "version_major": 2,
       "version_minor": 0
      },
      "text/plain": [
       "A Jupyter Widget"
      ]
     },
     "metadata": {},
     "output_type": "display_data"
    }
   ],
   "source": [
    "for hm in heatmaps2plot:\n",
    "    currExp = hm[1]\n",
    "    currTitle = hm[0]\n",
    "    try:\n",
    "        print directory + '/' + currExp\n",
    "        E = dExpression.display_heat_map(directory + '/' + currExp, show=True)  \n",
    "    except IOError:\n",
    "        print directory + '/' + currExp\n",
    "        directory = \".\"\n",
    "        E = dExpression.display_heat_map(directory + '/' + currExp, show=True)    "
   ]
  },
  {
   "cell_type": "code",
   "execution_count": null,
   "metadata": {
    "collapsed": true
   },
   "outputs": [],
   "source": []
  }
 ],
 "metadata": {
  "anaconda-cloud": {},
  "kernelspec": {
   "display_name": "Python [default]",
   "language": "python",
   "name": "python2"
  },
  "language_info": {
   "codemirror_mode": {
    "name": "ipython",
    "version": 2
   },
   "file_extension": ".py",
   "mimetype": "text/x-python",
   "name": "python",
   "nbconvert_exporter": "python",
   "pygments_lexer": "ipython2",
   "version": "2.7.12"
  },
  "widgets": {
   "state": {
    "a42f387497c84a83873034efc00b8357": {
     "views": [
      {
       "cell_index": 4
      }
     ]
    }
   },
   "version": "1.2.0"
  }
 },
 "nbformat": 4,
 "nbformat_minor": 1
}
