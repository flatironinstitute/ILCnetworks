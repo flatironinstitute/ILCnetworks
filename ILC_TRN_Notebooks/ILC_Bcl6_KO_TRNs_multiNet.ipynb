{
 "cells": [
  {
   "cell_type": "code",
   "execution_count": 11,
   "metadata": {
    "collapsed": true
   },
   "outputs": [],
   "source": [
    "# Visualization Bcl6-dependent genes in the ILC TRNs, using Waggoner Bcl6 KO gene expression heatmaps (log2(F.C.))\n",
    "# _multiNet --> enables coordinated comparison Bcl6 networks per ILC subtype \n",
    "# Miraldi*, Pokrovskii* et al. (2018) \"Characterization of transcriptional regulatory networks that drive the identities\n",
    "# and functions of intestinal innate lymphoid cells\"\n",
    "\n",
    "# TO START: In the menu above, choose \"Cell\" --> \"Run All\", and network + heatmap will load\n",
    "# NOTE: Default limits networks to TF-TF edges in top 1 TF / gene model (.93 quantile), to see the full \n",
    "# network hit \"restore\" (in the drop-down menu in cell below) and set threshold to 0 and hit \"threshold\"\n",
    "# You can search for gene names in the search box below the network (hit \"Match\"), and find regulators (\"targeted by\")\n",
    "# Change \"canvas\" to \"SVG\" (drop-down menu in cell below) to enable drag interactions with nodes & labels\n",
    "# Change \"SVG\" to \"canvas\" to speed up layout operations\n",
    "# More info about jp_gene_viz and user interface instructions are available on Github: \n",
    "# https://github.com/simonsfoundation/jp_gene_viz/blob/master/doc/dNetwork%20widget%20overview.ipynb\n",
    "\n",
    "# Edge key: \n",
    "# Solid lines -- supported by ATAC-seq data and gene expression modeling\n",
    "# Dotted lines -- supported by gene expression modeling only"
   ]
  },
  {
   "cell_type": "code",
   "execution_count": 12,
   "metadata": {
    "collapsed": true
   },
   "outputs": [],
   "source": [
    "# Choose an FDR cutoff to define Bcl6-dependent genes based on differential expression between KO and control\n",
    "# Options are limited to FDR: \"10\" or \"25\" \n",
    "fdrCut = \"25\"\n",
    "\n",
    "# directory containing gene expression data and network folder\n",
    "directory = \".\"\n",
    "# folder containing networks\n",
    "netPath = \"Bcl6KO_TRNs\"\n",
    "\n",
    "# networkInits is a list of tuples (network file, sample to color expression, title of network)\n",
    "networkInits = [    \n",
    "    ('Bcl6_KO_CCR6neg_ILC3_indirTargs_fdr' + fdrCut + '_sp.tsv','CCR6-ILC3_Bcl6_FC','CCR6-ILC3 Bcl6 KO TRN'),\n",
    "    ('Bcl6_KO_ILC1_indirTargs_fdr' + fdrCut + '_sp.tsv','ILC1_Bcl6_FC','ILC1 Bcl6 KO TRN'),\n",
    "    ('Bcl6_KO_NK_indirTargs_fdr' + fdrCut + '_sp.tsv','NK_Bcl6_FC','NK Bcl6 KO TRN'),       \n",
    "    ('bcl6_unionNets_indirTargs_fdr' + fdrCut + '_sp.tsv','NK_Bcl6_FC','Union of ILC-subtype Bcl6 KO TRNs')]\n",
    "\n",
    "# name of gene expression file\n",
    "expressionFile = \"GeneExpression/Bcl6_log2fcs_final.txt\" \n",
    "\n",
    "# For ease of visualization, limit target genes to cytokines, chemokines, receptors. Hit \"Restore\" button to see\n",
    "# all target genes in the TRN.\n",
    "# geneListFile = \"GeneSets/oxidativeDamage_Mapp.txt\"\n",
    "# geneListFile = \"GeneSets/IL12_23_PathComm.txt\"\n",
    "# geneListFile = \"GeneSets/IL2_PathCommMapp.txt\"\n",
    "# geneListFile = \"GeneSets/MAPK_KeggGoMapp.txt\"\n",
    "# geneListFile = \"GeneSets/chemokineReceptorsKlrs.txt\"\n",
    "geneListFile = \"\"\n",
    "\n",
    "# Labe TF and gene nodes in the network?\n",
    "labelsOn=True\n",
    "\n",
    "# set model size, mean # of TFs / genes, with maximum being ~10 TFs / gene\n",
    "tfsPerGene = 5"
   ]
  },
  {
   "cell_type": "code",
   "execution_count": 13,
   "metadata": {
    "collapsed": true
   },
   "outputs": [],
   "source": [
    "import sys \n",
    "import os.path\n",
    "if \"..\" not in sys.path:\n",
    "    sys.path.append(\"..\")\n",
    "from jp_gene_viz import dNetwork\n",
    "dNetwork.load_javascript_support()\n",
    "from jp_gene_viz import multiple_network\n",
    "from jp_gene_viz import LExpression\n",
    "LExpression.load_javascript_support()"
   ]
  },
  {
   "cell_type": "code",
   "execution_count": 14,
   "metadata": {},
   "outputs": [
    {
     "name": "stdout",
     "output_type": "stream",
     "text": [
      "('Reading network', './Bcl6KO_TRNs/Bcl6_KO_CCR6neg_ILC3_indirTargs_fdr25_sp.tsv')\n",
      "('Loading saved layout', './Bcl6KO_TRNs/Bcl6_KO_CCR6neg_ILC3_indirTargs_fdr25_sp.tsv.layout.json')\n",
      "('Reading network', './Bcl6KO_TRNs/Bcl6_KO_ILC1_indirTargs_fdr25_sp.tsv')\n",
      "('Loading saved layout', './Bcl6KO_TRNs/Bcl6_KO_ILC1_indirTargs_fdr25_sp.tsv.layout.json')\n",
      "('Reading network', './Bcl6KO_TRNs/Bcl6_KO_NK_indirTargs_fdr25_sp.tsv')\n",
      "('Loading saved layout', './Bcl6KO_TRNs/Bcl6_KO_NK_indirTargs_fdr25_sp.tsv.layout.json')\n",
      "('Reading network', './Bcl6KO_TRNs/bcl6_unionNets_indirTargs_fdr25_sp.tsv')\n",
      "('Loading saved layout', './Bcl6KO_TRNs/bcl6_unionNets_indirTargs_fdr25_sp.tsv.layout.json')\n",
      "Omitting edges, using canvas, and fast layout default because the network is large\n"
     ]
    }
   ],
   "source": [
    "networkList = list()  # this list contains heatmap-linked network objects\n",
    "\n",
    "for networkInit in networkInits:\n",
    "    networkFile = networkInit[0]\n",
    "    curr = LExpression.LinkedExpressionNetwork()   \n",
    "    fileName = directory + '/' + netPath + '/' + networkFile\n",
    "    if os.path.isfile(fileName):\n",
    "        curr.load_network(fileName)    \n",
    "        networkList.append(curr) \n",
    "    else:\n",
    "        print fileName + ' does not exist.'\n",
    "    "
   ]
  },
  {
   "cell_type": "code",
   "execution_count": 15,
   "metadata": {
    "scrolled": false
   },
   "outputs": [
    {
     "data": {
      "application/vnd.jupyter.widget-view+json": {
       "model_id": "39594cc53d6145eeacebd9f5505e8ab2",
       "version_major": 2,
       "version_minor": 0
      },
      "text/plain": [
       "A Jupyter Widget"
      ]
     },
     "metadata": {},
     "output_type": "display_data"
    }
   ],
   "source": [
    "# visualize the networks -- HARD CODED for 6 networks:\n",
    "M = multiple_network.MultipleNetworks(\n",
    "    [[networkList[0], networkList[1]],\n",
    "    [networkList[2], networkList[3]]])\n",
    "M.svg_width = 500\n",
    "M.show()  "
   ]
  },
  {
   "cell_type": "code",
   "execution_count": 16,
   "metadata": {
    "collapsed": true
   },
   "outputs": [],
   "source": [
    "# Set network preferences\n",
    "count = 0\n",
    "for curr in networkList:\n",
    "    networkInit = networkInits[count]\n",
    "    # get title information + curr column for shading of figures\n",
    "    currCol = networkInit[1]\n",
    "    titleBase = networkInit[2]\n",
    "    titleInf = titleBase \n",
    "    \n",
    "    # set threshold\n",
    "    threshhold = 1-float(tfsPerGene)/10 # because we're dealing with networks that have mean 10 TFs / gene        \n",
    "    curr.network.threshhold_slider.value = threshhold\n",
    "    curr.network.apply_click(None)\n",
    "        \n",
    "    # set title\n",
    "    curr.network.title_html.value = titleInf\n",
    "\n",
    "    # add labels\n",
    "    curr.network.labels_button.value=labelsOn\n",
    "    curr.network.draw_click(None)\n",
    "    # Limit genes to target genes of interest and their putative regulators\n",
    "    if geneListFile:\n",
    "        geneIn = open(directory + '/' + geneListFile,'r')    \n",
    "        geneList = list()\n",
    "        for gene in geneIn:\n",
    "            geneList.append(gene.strip('\\n'))\n",
    "        geneIn.close()\n",
    "\n",
    "        curr.network.pattern_text.value = \" \".join(geneList)\n",
    "        curr.network.match_click(None)\n",
    "        curr.network.targeted_click(None)\n",
    "\n",
    "    curr.network.connected_only_click(None)\n",
    "    curr.network.layout_dropdown.value = 'fruchterman_reingold'\n",
    "    curr.network.layout_click()\n",
    "    \n",
    "    # Load heatmap\n",
    "    curr.load_heatmap(directory + '/' + expressionFile)\n",
    "    # color nodes according to a sample column in the gene expression matrix\n",
    "    curr.gene_click(None)       \n",
    "    curr.expression.col = currCol    \n",
    "    curr.condition_click(None)\n",
    "    \n",
    "    count += 1"
   ]
  },
  {
   "cell_type": "code",
   "execution_count": null,
   "metadata": {
    "collapsed": true
   },
   "outputs": [],
   "source": [
    "\n"
   ]
  },
  {
   "cell_type": "code",
   "execution_count": null,
   "metadata": {
    "collapsed": true
   },
   "outputs": [],
   "source": []
  }
 ],
 "metadata": {
  "anaconda-cloud": {},
  "kernelspec": {
   "display_name": "Python [default]",
   "language": "python",
   "name": "python2"
  },
  "language_info": {
   "codemirror_mode": {
    "name": "ipython",
    "version": 2
   },
   "file_extension": ".py",
   "mimetype": "text/x-python",
   "name": "python",
   "nbconvert_exporter": "python",
   "pygments_lexer": "ipython2",
   "version": "2.7.12"
  }
 },
 "nbformat": 4,
 "nbformat_minor": 1
}
